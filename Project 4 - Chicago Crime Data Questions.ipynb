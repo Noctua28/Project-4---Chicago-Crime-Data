{
 "cells": [
  {
   "cell_type": "code",
   "execution_count": 1,
   "id": "0fd75257",
   "metadata": {},
   "outputs": [
    {
     "name": "stdout",
     "output_type": "stream",
     "text": [
      "Collecting holidays\n",
      "  Downloading holidays-0.30-py3-none-any.whl (736 kB)\n",
      "     -------------------------------------- 736.9/736.9 kB 9.3 MB/s eta 0:00:00\n",
      "Requirement already satisfied: python-dateutil in c:\\users\\aharo\\anaconda3\\envs\\dojo-env\\lib\\site-packages (from holidays) (2.8.2)\n",
      "Requirement already satisfied: six>=1.5 in c:\\users\\aharo\\anaconda3\\envs\\dojo-env\\lib\\site-packages (from python-dateutil->holidays) (1.16.0)\n",
      "Installing collected packages: holidays\n",
      "Successfully installed holidays-0.30\n",
      "Note: you may need to restart the kernel to use updated packages.\n"
     ]
    }
   ],
   "source": [
    "pip install holidays"
   ]
  },
  {
   "cell_type": "code",
   "execution_count": 2,
   "id": "50d51dec",
   "metadata": {},
   "outputs": [
    {
     "data": {
      "text/plain": [
       "(         ID                    Date        Primary Type  \\\n",
       " 0  12259461  01/01/2021 01:00:00 AM             BATTERY   \n",
       " 1  12258531  01/01/2021 01:00:00 AM   WEAPONS VIOLATION   \n",
       " 2  12258697  01/01/2021 01:00:00 AM             BATTERY   \n",
       " 3  13115666  01/01/2021 01:00:00 PM  DECEPTIVE PRACTICE   \n",
       " 4  12259015  01/01/2021 01:00:00 AM     CRIMINAL DAMAGE   \n",
       " \n",
       "                   Description         Location Description  Arrest  Domestic  \\\n",
       " 0                      SIMPLE                    RESIDENCE   False     False   \n",
       " 1  RECKLESS FIREARM DISCHARGE  RESIDENCE - PORCH / HALLWAY   False     False   \n",
       " 2     DOMESTIC BATTERY SIMPLE                HOTEL / MOTEL   False      True   \n",
       " 3              COMPUTER FRAUD                    APARTMENT   False     False   \n",
       " 4                 TO PROPERTY                    RESIDENCE   False     False   \n",
       " \n",
       "    Beat  District  Ward   Latitude  Longitude  \n",
       " 0   624       6.0   6.0  41.755932 -87.611409  \n",
       " 1  1032      10.0  22.0  41.837774 -87.712169  \n",
       " 2  1834      18.0  42.0  41.893652 -87.622726  \n",
       " 3   725       7.0  15.0        NaN        NaN  \n",
       " 4  1014      10.0  24.0  41.855968 -87.718813  ,\n",
       "          ID                    Date             Primary Type  \\\n",
       " 0  12582956  01/01/2022 01:00:00 PM  CRIMINAL SEXUAL ASSAULT   \n",
       " 1  12581911  01/01/2022 01:00:00 AM                    THEFT   \n",
       " 2  12581992  01/01/2022 01:00:00 AM                  BATTERY   \n",
       " 3  12582776  01/01/2022 01:00:00 PM                  BATTERY   \n",
       " 4  12582793  01/01/2022 01:00:00 AM                    THEFT   \n",
       " \n",
       "                                          Description  \\\n",
       " 0                               AGGRAVATED - HANDGUN   \n",
       " 1                                          OVER $500   \n",
       " 2                            DOMESTIC BATTERY SIMPLE   \n",
       " 3  AGGRAVATED DOMESTIC BATTERY - KNIFE / CUTTING ...   \n",
       " 4                                      FROM BUILDING   \n",
       " \n",
       "           Location Description  Arrest  Domestic  Beat  District  Ward  \\\n",
       " 0                     SIDEWALK   False     False  2223      22.0  21.0   \n",
       " 1       VEHICLE NON-COMMERCIAL   False     False  1115      11.0  28.0   \n",
       " 2  RESIDENCE - PORCH / HALLWAY   False      True  1125      11.0  27.0   \n",
       " 3                    APARTMENT   False      True  2432      24.0  49.0   \n",
       " 4                BAR OR TAVERN   False     False  1831      18.0  42.0   \n",
       " \n",
       "     Latitude  Longitude  \n",
       " 0  41.721006 -87.643203  \n",
       " 1  41.879687 -87.731805  \n",
       " 2  41.876929 -87.686332  \n",
       " 3  42.003582 -87.660816  \n",
       " 4  41.889453 -87.627995  )"
      ]
     },
     "execution_count": 2,
     "metadata": {},
     "output_type": "execute_result"
    }
   ],
   "source": [
    "import pandas as pd\n",
    "\n",
    "# Load the data for 2021\n",
    "file_path_2021 = \"C:/Users/aharo/OneDrive/Documents/GitHub/Project-4---Chicago-Crime-Data/Data/DataChicago-Crime_2021.csv\"\n",
    "data_2021 = pd.read_csv(file_path_2021)\n",
    "\n",
    "# Load the data for 2022\n",
    "file_path_2022 = \"C:/Users/aharo/OneDrive/Documents/GitHub/Project-4---Chicago-Crime-Data/Data/DataChicago-Crime_2022.csv\"\n",
    "data_2022 = pd.read_csv(file_path_2022)\n",
    "\n",
    "# Display the first few rows of each dataset to get an overview\n",
    "data_2021.head(), data_2022.head()"
   ]
  },
  {
   "cell_type": "markdown",
   "id": "b133bc4c",
   "metadata": {},
   "source": [
    "# Data Dictionary\n",
    "\n",
    "- ID: Unique identifier for the crime event.\n",
    "\n",
    "\n",
    "- Date: Date and time of the crime.\n",
    "\n",
    "\n",
    "- Primary Type: The primary category of the crime.\n",
    "\n",
    "\n",
    "- Description: Detailed description of the crime.\n",
    "\n",
    "\n",
    "- Location Description: Description of the location where the crime occurred.\n",
    "\n",
    "\n",
    "- Arrest: Indicator if an arrest was made (True/False).\n",
    "\n",
    "\n",
    "- Domestic: Indicator if the crime was domestic (True/False).\n",
    "\n",
    "\n",
    "- Beat: Police beat code.\n",
    "\n",
    "\n",
    "- District: Police district code.\n",
    "\n",
    "\n",
    "- Ward: Ward code.\n",
    "\n",
    "\n",
    "- Latitude: Latitude coordinate of the crime location.\n",
    "\n",
    "\n",
    "- Longitude: Longitude coordinate of the crime location."
   ]
  },
  {
   "cell_type": "markdown",
   "id": "0f0e45f7",
   "metadata": {},
   "source": [
    "# Topic 1: Comparing Police Districts \n",
    "\n",
    "We'll start by analyzing the police districts to determine which district has the most crimes and which has the least."
   ]
  },
  {
   "cell_type": "markdown",
   "id": "8c2af8ab",
   "metadata": {},
   "source": [
    "## Q1: Which district has the most crimes? Which has the least?"
   ]
  },
  {
   "cell_type": "code",
   "execution_count": 3,
   "id": "cafb00db",
   "metadata": {},
   "outputs": [
    {
     "data": {
      "text/plain": [
       "(11.0, 31.0, 8.0, 31.0)"
      ]
     },
     "execution_count": 3,
     "metadata": {},
     "output_type": "execute_result"
    }
   ],
   "source": [
    "# Grouping the data by the 'District' column and counting the number of crimes in each district for both 2021 and 2022\n",
    "district_crimes_2021 = data_2021['District'].value_counts()\n",
    "district_crimes_2022 = data_2022['District'].value_counts()\n",
    "\n",
    "# Finding the districts with the most and least crimes for both years\n",
    "most_crimes_district_2021 = district_crimes_2021.idxmax()\n",
    "least_crimes_district_2021 = district_crimes_2021.idxmin()\n",
    "most_crimes_district_2022 = district_crimes_2022.idxmax()\n",
    "least_crimes_district_2022 = district_crimes_2022.idxmin()\n",
    "\n",
    "most_crimes_district_2021, least_crimes_district_2021, most_crimes_district_2022, least_crimes_district_2022"
   ]
  },
  {
   "cell_type": "markdown",
   "id": "3837e29c",
   "metadata": {},
   "source": [
    "Here are the results for Topic 1, comparing police districts:\n",
    "\n",
    "For the year 2021:\n",
    "\n",
    "- District with the most crimes: District 11\n",
    "- District with the least crimes: District 31\n",
    "\n",
    "\n",
    "For the year 2022:\n",
    "\n",
    "- District with the most crimes: District 8\n",
    "- District with the least crimes: District 31\n",
    "\n",
    "\n",
    "It's interesting to note that District 31 has the least crimes in both years, while the district with the most crimes changed from 2021 to 2022."
   ]
  },
  {
   "cell_type": "markdown",
   "id": "a6beb794",
   "metadata": {},
   "source": [
    "# Topic 2: Crimes Across the Years\n",
    "\n",
    "We'll analyze the total number of crimes and see if there are any individual crimes that are doing the opposite (e.g., decreasing when overall crime is increasing or vice-versa)."
   ]
  },
  {
   "cell_type": "markdown",
   "id": "e4a6d6b3",
   "metadata": {},
   "source": [
    "## Q2: Is the total number of crimes increasing or decreasing across the years? "
   ]
  },
  {
   "cell_type": "code",
   "execution_count": 4,
   "id": "5d41f4a9",
   "metadata": {},
   "outputs": [
    {
     "data": {
      "text/plain": [
       "(208763, 238742, 'increasing')"
      ]
     },
     "execution_count": 4,
     "metadata": {},
     "output_type": "execute_result"
    }
   ],
   "source": [
    "# Calculating the total number of crimes for both 2021 and 2022\n",
    "total_crimes_2021 = len(data_2021)\n",
    "total_crimes_2022 = len(data_2022)\n",
    "\n",
    "# Finding the trend (increasing or decreasing) between 2021 and 2022\n",
    "crime_trend = \"increasing\" if total_crimes_2022 > total_crimes_2021 else \"decreasing\"\n",
    "\n",
    "total_crimes_2021, total_crimes_2022, crime_trend"
   ]
  },
  {
   "cell_type": "markdown",
   "id": "6beded99",
   "metadata": {},
   "source": [
    "The analysis for Topic 2 reveals the following:\n",
    "\n",
    "Total number of crimes in 2021: 208,763\n",
    "Total number of crimes in 2022: 238,742\n",
    "The total number of crimes is increasing from 2021 to 2022."
   ]
  },
  {
   "cell_type": "markdown",
   "id": "e5852a6c",
   "metadata": {},
   "source": [
    "## Q2.1: Are there any individual crimes that are doing the opposite? "
   ]
  },
  {
   "cell_type": "code",
   "execution_count": 5,
   "id": "f6a52283",
   "metadata": {},
   "outputs": [
    {
     "data": {
      "text/plain": [
       "(208763, 238742, 'increasing')"
      ]
     },
     "execution_count": 5,
     "metadata": {},
     "output_type": "execute_result"
    }
   ],
   "source": [
    "# Calculating the total number of crimes for both 2021 and 2022\n",
    "total_crimes_2021 = len(data_2021)\n",
    "total_crimes_2022 = len(data_2022)\n",
    "\n",
    "# Finding the trend (increasing or decreasing) between 2021 and 2022\n",
    "crime_trend = \"increasing\" if total_crimes_2022 > total_crimes_2021 else \"decreasing\"\n",
    "\n",
    "total_crimes_2021, total_crimes_2022, crime_trend"
   ]
  },
  {
   "cell_type": "markdown",
   "id": "c02ccf3a",
   "metadata": {},
   "source": [
    "The analysis for Topic 2 reveals the following:\n",
    "\n",
    "- Total number of crimes in 2021: 208,763\n",
    "- Total number of crimes in 2022: 238,742\n",
    "\n",
    "\n",
    "The total number of crimes is increasing from 2021 to 2022."
   ]
  },
  {
   "cell_type": "markdown",
   "id": "080db01e",
   "metadata": {},
   "source": [
    "## Q2.2: Are there any individual crimes that are doing the opposite?\n",
    "\n",
    "\n",
    "To answer this question, we'll compare the counts of individual crime types between the two years to identify any that are showing a trend opposite to the overall increase."
   ]
  },
  {
   "cell_type": "code",
   "execution_count": 6,
   "id": "d4ceaecd",
   "metadata": {},
   "outputs": [
    {
     "data": {
      "text/html": [
       "<div>\n",
       "<style scoped>\n",
       "    .dataframe tbody tr th:only-of-type {\n",
       "        vertical-align: middle;\n",
       "    }\n",
       "\n",
       "    .dataframe tbody tr th {\n",
       "        vertical-align: top;\n",
       "    }\n",
       "\n",
       "    .dataframe thead th {\n",
       "        text-align: right;\n",
       "    }\n",
       "</style>\n",
       "<table border=\"1\" class=\"dataframe\">\n",
       "  <thead>\n",
       "    <tr style=\"text-align: right;\">\n",
       "      <th></th>\n",
       "      <th>2021</th>\n",
       "      <th>2022</th>\n",
       "    </tr>\n",
       "    <tr>\n",
       "      <th>Primary Type</th>\n",
       "      <th></th>\n",
       "      <th></th>\n",
       "    </tr>\n",
       "  </thead>\n",
       "  <tbody>\n",
       "    <tr>\n",
       "      <th>DECEPTIVE PRACTICE</th>\n",
       "      <td>17354</td>\n",
       "      <td>16352</td>\n",
       "    </tr>\n",
       "    <tr>\n",
       "      <th>WEAPONS VIOLATION</th>\n",
       "      <td>8980</td>\n",
       "      <td>8766</td>\n",
       "    </tr>\n",
       "    <tr>\n",
       "      <th>NARCOTICS</th>\n",
       "      <td>5337</td>\n",
       "      <td>4716</td>\n",
       "    </tr>\n",
       "    <tr>\n",
       "      <th>OFFENSE INVOLVING CHILDREN</th>\n",
       "      <td>1915</td>\n",
       "      <td>1873</td>\n",
       "    </tr>\n",
       "    <tr>\n",
       "      <th>HOMICIDE</th>\n",
       "      <td>810</td>\n",
       "      <td>725</td>\n",
       "    </tr>\n",
       "    <tr>\n",
       "      <th>ARSON</th>\n",
       "      <td>529</td>\n",
       "      <td>422</td>\n",
       "    </tr>\n",
       "    <tr>\n",
       "      <th>OBSCENITY</th>\n",
       "      <td>51</td>\n",
       "      <td>49</td>\n",
       "    </tr>\n",
       "    <tr>\n",
       "      <th>GAMBLING</th>\n",
       "      <td>13</td>\n",
       "      <td>9</td>\n",
       "    </tr>\n",
       "  </tbody>\n",
       "</table>\n",
       "</div>"
      ],
      "text/plain": [
       "                             2021   2022\n",
       "Primary Type                            \n",
       "DECEPTIVE PRACTICE          17354  16352\n",
       "WEAPONS VIOLATION            8980   8766\n",
       "NARCOTICS                    5337   4716\n",
       "OFFENSE INVOLVING CHILDREN   1915   1873\n",
       "HOMICIDE                      810    725\n",
       "ARSON                         529    422\n",
       "OBSCENITY                      51     49\n",
       "GAMBLING                       13      9"
      ]
     },
     "execution_count": 6,
     "metadata": {},
     "output_type": "execute_result"
    }
   ],
   "source": [
    "# Grouping the data by 'Primary Type' and counting the number of occurrences for each crime type\n",
    "crime_types_2021 = data_2021['Primary Type'].value_counts()\n",
    "crime_types_2022 = data_2022['Primary Type'].value_counts()\n",
    "\n",
    "# Combining the data for both years into a single DataFrame for comparison\n",
    "crime_comparison = pd.concat([crime_types_2021, crime_types_2022], axis=1, keys=['2021', '2022']).fillna(0)\n",
    "\n",
    "# Finding individual crimes that are doing the opposite of the overall trend (i.e., decreasing when overall is increasing)\n",
    "opposite_trend_crimes = crime_comparison[(crime_comparison['2021'] > crime_comparison['2022'])]\n",
    "\n",
    "opposite_trend_crimes"
   ]
  },
  {
   "cell_type": "markdown",
   "id": "81d4eedd",
   "metadata": {},
   "source": [
    "The analysis reveals individual crimes that showed a decreasing trend from 2021 to 2022, even though the overall number of crimes increased:\n",
    "\n",
    "- Deceptive Practice: Decreased from 17,354 to 16,352\n",
    "- Weapons Violation: Decreased from 8,980 to 8,766\n",
    "- Narcotics: Decreased from 5,337 to 4,716\n",
    "- Offense Involving Children: Decreased from 1,915 to 1,873\n",
    "- Homicide: Decreased from 810 to 725\n",
    "- Arson: Decreased from 529 to 422\n",
    "- Obscenity: Decreased from 51 to 49\n",
    "- Gambling: Decreased from 13 to 9\n",
    "\n",
    "\n",
    "These individual crimes did not follow the overall increasing trend in the number of crimes from 2021 to 2022."
   ]
  },
  {
   "cell_type": "markdown",
   "id": "a5c2cdaa",
   "metadata": {},
   "source": [
    "# Top 3: Comparing AM vs PM Rush Hour"
   ]
  },
  {
   "cell_type": "markdown",
   "id": "ba1c60d1",
   "metadata": {},
   "source": [
    "## Q3: Are crimes more common during AM rush hour or PM rush hour?\n",
    "\n",
    "We'll start by classifying the crimes into AM and PM rush hours based on the time they occurred. Then, we'll compare the counts to determine which rush hour has more crimes.\n",
    "\n",
    "- AM rush hour: 7 AM - 10 AM\n",
    "- PM rush hour: 4 PM - 7 PM\n",
    "\n",
    "\n",
    "Let's begin with this analysis for both 2021 and 2022."
   ]
  },
  {
   "cell_type": "code",
   "execution_count": 7,
   "id": "67f62873",
   "metadata": {},
   "outputs": [
    {
     "name": "stderr",
     "output_type": "stream",
     "text": [
      "C:\\Users\\aharo\\AppData\\Local\\Temp\\ipykernel_2724\\1558113554.py:4: UserWarning: Could not infer format, so each element will be parsed individually, falling back to `dateutil`. To ensure parsing is consistent and as-expected, please specify a format.\n",
      "  data['Date'] = pd.to_datetime(data['Date'])\n"
     ]
    },
    {
     "data": {
      "text/plain": [
       "(21275, 31859, 24444, 37097)"
      ]
     },
     "execution_count": 7,
     "metadata": {},
     "output_type": "execute_result"
    }
   ],
   "source": [
    "# Function to classify crimes into AM and PM rush hours\n",
    "def classify_rush_hours(data):\n",
    "    # Convert the 'Date' column to datetime\n",
    "    data['Date'] = pd.to_datetime(data['Date'])\n",
    "    \n",
    "    # Extract the hour from the 'Date' column\n",
    "    data['Hour'] = data['Date'].dt.hour\n",
    "    \n",
    "    # Classify crimes into AM and PM rush hours\n",
    "    am_rush_hour = data[(data['Hour'] >= 7) & (data['Hour'] < 10)]\n",
    "    pm_rush_hour = data[(data['Hour'] >= 16) & (data['Hour'] < 19)]\n",
    "    \n",
    "    return len(am_rush_hour), len(pm_rush_hour)\n",
    "\n",
    "# Classify crimes for both 2021 and 2022\n",
    "am_rush_hour_2021, pm_rush_hour_2021 = classify_rush_hours(data_2021)\n",
    "am_rush_hour_2022, pm_rush_hour_2022 = classify_rush_hours(data_2022)\n",
    "\n",
    "am_rush_hour_2021, pm_rush_hour_2021, am_rush_hour_2022, pm_rush_hour_2022"
   ]
  },
  {
   "cell_type": "markdown",
   "id": "ac156106",
   "metadata": {},
   "source": [
    "Here are the results for Topic 3, comparing AM vs. PM rush hour crimes:\n",
    "\n",
    "1. For the year 2021:\n",
    "\n",
    "- AM rush hour crimes (7 AM - 10 AM): 21,275\n",
    "- PM rush hour crimes (4 PM - 7 PM): 31,859\n",
    "\n",
    "\n",
    "2. For the year 2022:\n",
    "\n",
    "- AM rush hour crimes (7 AM - 10 AM): 24,444\n",
    "- PM rush hour crimes (4 PM - 7 PM): 37,097\n",
    "\n",
    "\n",
    "From this analysis, we can conclude that crimes are more common during PM rush hour (4 PM - 7 PM) in both 2021 and 2022."
   ]
  },
  {
   "cell_type": "markdown",
   "id": "e63d9310",
   "metadata": {},
   "source": [
    "## Q3.1: What are the top 5 most common crimes during AM rush hour? What are the top 5 most common crimes during PM rush hour?\n",
    "\n",
    "\n",
    "Next, we'll identify the top 5 most common crimes during both AM and PM rush hours for the years 2021 and 2022. Let's proceed with this analysis."
   ]
  },
  {
   "cell_type": "code",
   "execution_count": 8,
   "id": "f81e3745",
   "metadata": {},
   "outputs": [
    {
     "data": {
      "text/plain": [
       "(Primary Type\n",
       " THEFT                 4080\n",
       " BATTERY               3552\n",
       " DECEPTIVE PRACTICE    3047\n",
       " CRIMINAL DAMAGE       2407\n",
       " ASSAULT               2285\n",
       " Name: count, dtype: int64,\n",
       " Primary Type\n",
       " THEFT                 7492\n",
       " BATTERY               6049\n",
       " CRIMINAL DAMAGE       3627\n",
       " ASSAULT               3599\n",
       " DECEPTIVE PRACTICE    2176\n",
       " Name: count, dtype: int64,\n",
       " Primary Type\n",
       " THEFT                 5701\n",
       " BATTERY               3811\n",
       " CRIMINAL DAMAGE       2753\n",
       " DECEPTIVE PRACTICE    2601\n",
       " ASSAULT               2323\n",
       " Name: count, dtype: int64,\n",
       " Primary Type\n",
       " THEFT                  9790\n",
       " BATTERY                6116\n",
       " CRIMINAL DAMAGE        4061\n",
       " ASSAULT                3726\n",
       " MOTOR VEHICLE THEFT    3557\n",
       " Name: count, dtype: int64)"
      ]
     },
     "execution_count": 8,
     "metadata": {},
     "output_type": "execute_result"
    }
   ],
   "source": [
    "# Function to find the top 5 most common crimes during AM and PM rush hours\n",
    "def top_5_crimes(data):\n",
    "    # AM rush hour crimes\n",
    "    am_rush_hour = data[(data['Hour'] >= 7) & (data['Hour'] < 10)]\n",
    "    top_5_am = am_rush_hour['Primary Type'].value_counts().head(5)\n",
    "\n",
    "    # PM rush hour crimes\n",
    "    pm_rush_hour = data[(data['Hour'] >= 16) & (data['Hour'] < 19)]\n",
    "    top_5_pm = pm_rush_hour['Primary Type'].value_counts().head(5)\n",
    "\n",
    "    return top_5_am, top_5_pm\n",
    "\n",
    "# Find the top 5 most common crimes during AM and PM rush hours for both 2021 and 2022\n",
    "top_5_am_2021, top_5_pm_2021 = top_5_crimes(data_2021)\n",
    "top_5_am_2022, top_5_pm_2022 = top_5_crimes(data_2022)\n",
    "\n",
    "top_5_am_2021, top_5_pm_2021, top_5_am_2022, top_5_pm_2022"
   ]
  },
  {
   "cell_type": "markdown",
   "id": "5d76f24b",
   "metadata": {},
   "source": [
    "Here are the top 5 most common crimes during AM and PM rush hours:\n",
    "\n",
    "For the year 2021:\n",
    "\n",
    "- AM rush hour (7 AM - 10 AM):\n",
    "1. Theft: 4,080\n",
    "2. Battery: 3,552\n",
    "3. Deceptive Practice: 3,047\n",
    "4. Criminal Damage: 2,407\n",
    "5. Assault: 2,285\n",
    "\n",
    "\n",
    "- PM rush hour (4 PM - 7 PM):\n",
    "1. Theft: 7,492\n",
    "2. Battery: 6,049\n",
    "3. Criminal Damage: 3,627\n",
    "4. Assault: 3,599\n",
    "5. Deceptive Practice: 2,176\n",
    "\n",
    "\n",
    "For the year 2022:\n",
    "\n",
    "- AM rush hour (7 AM - 10 AM):\n",
    "\n",
    "1. Theft: 5,701\n",
    "2. Battery: 3,811\n",
    "3. Criminal Damage: 2,753\n",
    "4. Deceptive Practice: 2,601\n",
    "5. Assault: 2,323\n",
    "\n",
    "- PM rush hour (4 PM - 7 PM):\n",
    "\n",
    "1. Theft: 9,790\n",
    "2. Battery: 6,116\n",
    "3. Criminal Damage: 4,061\n",
    "4. Assault: 3,726\n",
    "5. Motor Vehicle Theft: 3,557\n",
    "\n",
    "\n",
    "The top 5 crimes are similar in both rush hours but vary in counts."
   ]
  },
  {
   "cell_type": "markdown",
   "id": "7dda056b",
   "metadata": {},
   "source": [
    "## Q3.2: Are Motor Vehicle Thefts more common during AM rush hour or PM Rush Hour?\n",
    "\n",
    "We'll proceed with the analysis to determine whether Motor Vehicle Thefts are more common during AM rush hour (7 AM - 10 AM) or PM rush hour (4 PM - 7 PM) for both 2021 and 2022."
   ]
  },
  {
   "cell_type": "code",
   "execution_count": 9,
   "id": "00c5f1e5",
   "metadata": {},
   "outputs": [
    {
     "data": {
      "text/plain": [
       "(1039, 1741, 2174, 3557)"
      ]
     },
     "execution_count": 9,
     "metadata": {},
     "output_type": "execute_result"
    }
   ],
   "source": [
    "# Function to compare Motor Vehicle Thefts during AM and PM rush hours\n",
    "def motor_vehicle_thefts(data):\n",
    "    # Filter for Motor Vehicle Thefts\n",
    "    motor_vehicle_thefts_data = data[data['Primary Type'] == 'MOTOR VEHICLE THEFT']\n",
    "\n",
    "    # AM rush hour crimes\n",
    "    am_rush_hour = motor_vehicle_thefts_data[(motor_vehicle_thefts_data['Hour'] >= 7) & (motor_vehicle_thefts_data['Hour'] < 10)]\n",
    "\n",
    "    # PM rush hour crimes\n",
    "    pm_rush_hour = motor_vehicle_thefts_data[(motor_vehicle_thefts_data['Hour'] >= 16) & (motor_vehicle_thefts_data['Hour'] < 19)]\n",
    "\n",
    "    return len(am_rush_hour), len(pm_rush_hour)\n",
    "\n",
    "# Compare Motor Vehicle Thefts during AM and PM rush hours for both 2021 and 2022\n",
    "motor_vehicle_thefts_2021_am, motor_vehicle_thefts_2021_pm = motor_vehicle_thefts(data_2021)\n",
    "motor_vehicle_thefts_2022_am, motor_vehicle_thefts_2022_pm = motor_vehicle_thefts(data_2022)\n",
    "\n",
    "motor_vehicle_thefts_2021_am, motor_vehicle_thefts_2021_pm, motor_vehicle_thefts_2022_am, motor_vehicle_thefts_2022_pm"
   ]
  },
  {
   "cell_type": "markdown",
   "id": "10fe9072",
   "metadata": {},
   "source": [
    "Here are the results for Motor Vehicle Thefts during AM and PM rush hours:\n",
    "\n",
    "- For the year 2021:\n",
    "\n",
    "1. AM rush hour (7 AM - 10 AM): 1,039\n",
    "2. PM rush hour (4 PM - 7 PM): 1,741\n",
    "\n",
    "- For the year 2022:\n",
    "\n",
    "1. AM rush hour (7 AM - 10 AM): 2,174\n",
    "2. PM rush hour (4 PM - 7 PM): 3,557\n",
    "\n",
    "\n",
    "From this analysis, we can conclude that Motor Vehicle Thefts are more common during PM rush hour (4 PM - 7 PM) in both 2021 and 2022."
   ]
  },
  {
   "cell_type": "markdown",
   "id": "01442241",
   "metadata": {},
   "source": [
    "# Topic 4: Comparing Months \n",
    "\n",
    "We'll analyze which months have the most and least crime and see if there are any individual crimes that do not follow this pattern."
   ]
  },
  {
   "cell_type": "markdown",
   "id": "719038cb",
   "metadata": {},
   "source": [
    "## Q4: What months have the most crime? What months have the least?\n",
    "\n",
    "\n",
    "We'll start by grouping the crimes by month for both 2021 and 2022 to identify the months with the most and least crimes."
   ]
  },
  {
   "cell_type": "code",
   "execution_count": 10,
   "id": "9387973c",
   "metadata": {},
   "outputs": [
    {
     "data": {
      "text/plain": [
       "(10, 2, 10, 2)"
      ]
     },
     "execution_count": 10,
     "metadata": {},
     "output_type": "execute_result"
    }
   ],
   "source": [
    "# Function to group crimes by month and find the months with the most and least crimes\n",
    "def crimes_by_month(data):\n",
    "    # Extract the month from the 'Date' column\n",
    "    data['Month'] = data['Date'].dt.month\n",
    "    \n",
    "    # Group by month and count the crimes\n",
    "    crimes_per_month = data['Month'].value_counts().sort_index()\n",
    "    \n",
    "    # Find the months with the most and least crimes\n",
    "    most_crimes_month = crimes_per_month.idxmax()\n",
    "    least_crimes_month = crimes_per_month.idxmin()\n",
    "\n",
    "    return most_crimes_month, least_crimes_month, crimes_per_month\n",
    "\n",
    "# Analyzing crimes by month for both 2021 and 2022\n",
    "most_crimes_month_2021, least_crimes_month_2021, crimes_per_month_2021 = crimes_by_month(data_2021)\n",
    "most_crimes_month_2022, least_crimes_month_2022, crimes_per_month_2022 = crimes_by_month(data_2022)\n",
    "\n",
    "most_crimes_month_2021, least_crimes_month_2021, most_crimes_month_2022, least_crimes_month_2022"
   ]
  },
  {
   "cell_type": "markdown",
   "id": "a72e790a",
   "metadata": {},
   "source": [
    "The analysis for Topic 4 reveals the following:\n",
    "\n",
    "- For the year 2021:\n",
    "\n",
    "1. Month with the most crimes: October (10th month)\n",
    "2. Month with the least crimes: February (2nd month)\n",
    "\n",
    "\n",
    "- For the year 2022:\n",
    "\n",
    "1. Month with the most crimes: October (10th month)\n",
    "2. Month with the least crimes: February (2nd month)\n",
    "\n",
    "\n",
    "It's interesting to observe that both years have the same months for the most and least crimes."
   ]
  },
  {
   "cell_type": "markdown",
   "id": "68662684",
   "metadata": {},
   "source": [
    "## Q4.1: Are there any individual crimes that do not follow this pattern? If so, which crimes?\n",
    "\n",
    "\n",
    "Next, we'll analyze individual crimes by month to identify any that do not follow the pattern of most and least crimes in October and February, respectively."
   ]
  },
  {
   "cell_type": "code",
   "execution_count": 11,
   "id": "49ff1f1d",
   "metadata": {},
   "outputs": [
    {
     "data": {
      "text/plain": [
       "(Month                                1     2     3     4     5     6     7   \\\n",
       " Primary Type                                                                  \n",
       " ARSON                                39    23    49    41    49    49    51   \n",
       " ASSAULT                            1339  1284  1452  1601  1800  1905  1956   \n",
       " BATTERY                            2776  2439  3101  3077  3679  3845  3886   \n",
       " CONCEALED CARRY LICENSE VIOLATION    11    15    14    15    12    18    16   \n",
       " CRIMINAL DAMAGE                    1727  1457  1896  1948  2287  2317  2489   \n",
       " CRIMINAL SEXUAL ASSAULT              86    95   130   114   133   147   147   \n",
       " CRIMINAL TRESPASS                   254   214   279   271   272   279   308   \n",
       " DECEPTIVE PRACTICE                 2587  1627  1640  1225  1272  1500  1329   \n",
       " GAMBLING                              0     0     1     2     1     3     1   \n",
       " HOMICIDE                             55    39    45    55    66    84   112   \n",
       " HUMAN TRAFFICKING                     2     1     0     0     1     0     1   \n",
       " INTERFERENCE WITH PUBLIC OFFICER     34    20    33    21    26    28    26   \n",
       " INTIMIDATION                          9     4    12    14    16    10     9   \n",
       " KIDNAPPING                            3     6    10     8     9     8     5   \n",
       " LIQUOR LAW VIOLATION                  5    18    10     8    17    17    10   \n",
       " NARCOTICS                           508   608   815   495   562   472   389   \n",
       " NON-CRIMINAL                          0     1     0     1     1     0     0   \n",
       " OBSCENITY                             9     6     8     1     3     7     6   \n",
       " OFFENSE INVOLVING CHILDREN          167   114   145   169   197   169   167   \n",
       " OTHER NARCOTIC VIOLATION              0     0     1     0     1     0     0   \n",
       " OTHER OFFENSE                      1031   954  1162  1194  1349  1420  1220   \n",
       " PROSTITUTION                          4     7     6     0    11     9    12   \n",
       " PUBLIC INDECENCY                      1     1     0     0     1     0     0   \n",
       " PUBLIC PEACE VIOLATION               46    27    46    46    47    65    70   \n",
       " ROBBERY                             728   478   482   466   505   600   712   \n",
       " WEAPONS VIOLATION                   705   466   761   779   866   908   833   \n",
       " \n",
       " Month                                8     9     10    11    12  \n",
       " Primary Type                                                     \n",
       " ARSON                                48    46    44    43    47  \n",
       " ASSAULT                            1871  2039  1871  1629  1595  \n",
       " BATTERY                            3803  3829  3755  3100  3169  \n",
       " CONCEALED CARRY LICENSE VIOLATION    16    21    20    12     3  \n",
       " CRIMINAL DAMAGE                    2322  2298  2247  2087  2019  \n",
       " CRIMINAL SEXUAL ASSAULT             142   121   136   125   122  \n",
       " CRIMINAL TRESPASS                   283   338   327   303   278  \n",
       " DECEPTIVE PRACTICE                 1311  1294  1239  1161  1169  \n",
       " GAMBLING                              0     1     3     1     0  \n",
       " HOMICIDE                             83    92    63    62    54  \n",
       " HUMAN TRAFFICKING                     0     3     0     1     0  \n",
       " INTERFERENCE WITH PUBLIC OFFICER     24    28    23    24    27  \n",
       " INTIMIDATION                          8     9    13     5    14  \n",
       " KIDNAPPING                            9     7     6     9     7  \n",
       " LIQUOR LAW VIOLATION                  9    25    20    29    16  \n",
       " NARCOTICS                           321   286   325   299   257  \n",
       " NON-CRIMINAL                          0     0     0     0     1  \n",
       " OBSCENITY                             2     3     1     2     3  \n",
       " OFFENSE INVOLVING CHILDREN          147   161   147   165   167  \n",
       " OTHER NARCOTIC VIOLATION              0     0     0     0     0  \n",
       " OTHER OFFENSE                      1134  1190  1190  1071  1026  \n",
       " PROSTITUTION                          1    22     0     1    22  \n",
       " PUBLIC INDECENCY                      0     0     0     0     1  \n",
       " PUBLIC PEACE VIOLATION               35    76    56    43    46  \n",
       " ROBBERY                             655   773   837   781   901  \n",
       " WEAPONS VIOLATION                   796   809   739   698   620  ,\n",
       " Month                                1     2     3     4     5     6     7   \\\n",
       " Primary Type                                                                  \n",
       " ARSON                                26    25    23    34    44    37    39   \n",
       " ASSAULT                            1322  1392  1626  1559  1979  2012  1964   \n",
       " BATTERY                            2846  2755  3355  3369  3929  3846  3752   \n",
       " BURGLARY                            579   509   578   560   605   674   700   \n",
       " CONCEALED CARRY LICENSE VIOLATION    12    14    18    14    19    16    16   \n",
       " CRIMINAL SEXUAL ASSAULT             106   125   119   123   146   133   152   \n",
       " CRIMINAL TRESPASS                   263   292   363   355   389   365   382   \n",
       " GAMBLING                              0     0     1     0     3     1     2   \n",
       " HOMICIDE                             55    45    39    54    65    73    68   \n",
       " HUMAN TRAFFICKING                     2     4     2     0     2     2     2   \n",
       " INTERFERENCE WITH PUBLIC OFFICER     20    40    25    27    40    45    41   \n",
       " KIDNAPPING                            7     5     7     5    11    10    15   \n",
       " LIQUOR LAW VIOLATION                  5     4    21    15    25    33    22   \n",
       " NARCOTICS                           271   471   508   477   411   388   369   \n",
       " NON-CRIMINAL                          0     0     0     2     0     0     0   \n",
       " OFFENSE INVOLVING CHILDREN          143   162   160   156   193   131   179   \n",
       " OTHER NARCOTIC VIOLATION              0     1     0     0     0     0     1   \n",
       " OTHER OFFENSE                      1067  1108  1380  1353  1359  1309  1310   \n",
       " PROSTITUTION                         22    41     1    35    39     9     8   \n",
       " PUBLIC INDECENCY                      0     0     0     0     1     1     0   \n",
       " PUBLIC PEACE VIOLATION               24    47    55    68    79    84    66   \n",
       " ROBBERY                             686   615   590   601   668   733   766   \n",
       " SEX OFFENSE                          89    71   121   100   113    97   109   \n",
       " STALKING                             29    26    34    34    38    37    35   \n",
       " THEFT                              3390  3326  4166  3929  4497  5044  5733   \n",
       " WEAPONS VIOLATION                   544   578   701   748   955   865   888   \n",
       " \n",
       " Month                                8     9     10    11    12  \n",
       " Primary Type                                                     \n",
       " ARSON                                40    49    41    29    35  \n",
       " ASSAULT                            1984  1891  1838  1655  1568  \n",
       " BATTERY                            3739  3718  3498  3083  3007  \n",
       " BURGLARY                            673   654   688   677   695  \n",
       " CONCEALED CARRY LICENSE VIOLATION    15    13    10    18    12  \n",
       " CRIMINAL SEXUAL ASSAULT             146   143   162   110    89  \n",
       " CRIMINAL TRESPASS                   392   378   374   331   340  \n",
       " GAMBLING                              2     0     0     0     0  \n",
       " HOMICIDE                             69    75    65    57    60  \n",
       " HUMAN TRAFFICKING                     1     0     2     0     1  \n",
       " INTERFERENCE WITH PUBLIC OFFICER     33    38    37    25    21  \n",
       " KIDNAPPING                           10    14    11    12    10  \n",
       " LIQUOR LAW VIOLATION                  7    20    19    23     9  \n",
       " NARCOTICS                           420   379   358   339   325  \n",
       " NON-CRIMINAL                          0     0     2     0     1  \n",
       " OFFENSE INVOLVING CHILDREN          187   155   145   130   132  \n",
       " OTHER NARCOTIC VIOLATION              1     2     0     0     2  \n",
       " OTHER OFFENSE                      1214  1146  1164  1056  1086  \n",
       " PROSTITUTION                         23    59    26    14     6  \n",
       " PUBLIC INDECENCY                      1     1     1     0     0  \n",
       " PUBLIC PEACE VIOLATION               56    66    72    46    47  \n",
       " ROBBERY                             749   867   945   846   899  \n",
       " SEX OFFENSE                         127   117    91    99    87  \n",
       " STALKING                             46    33    45    52    34  \n",
       " THEFT                              5243  5115  5241  4715  4409  \n",
       " WEAPONS VIOLATION                   832   780   735   597   543  )"
      ]
     },
     "execution_count": 11,
     "metadata": {},
     "output_type": "execute_result"
    }
   ],
   "source": [
    "# Function to find individual crimes that do not follow the pattern of most and least crimes in October and February\n",
    "def individual_crimes_pattern(data):\n",
    "    # Group by 'Primary Type' and 'Month', and count the occurrences\n",
    "    crimes_by_type_month = data.groupby(['Primary Type', 'Month']).size().reset_index(name='Count')\n",
    "\n",
    "    # Pivot the DataFrame to have months as columns\n",
    "    crimes_by_type_month_pivot = crimes_by_type_month.pivot_table(index='Primary Type', columns='Month', values='Count', fill_value=0)\n",
    "\n",
    "    # Find crimes that do not have the most occurrences in October (10) or least occurrences in February (2)\n",
    "    opposite_pattern_crimes = crimes_by_type_month_pivot[(crimes_by_type_month_pivot.idxmax(axis=1) != 10) | (crimes_by_type_month_pivot.idxmin(axis=1) != 2)]\n",
    "\n",
    "    return opposite_pattern_crimes\n",
    "\n",
    "# Analyzing individual crimes that do not follow the pattern for both 2021 and 2022\n",
    "opposite_pattern_crimes_2021 = individual_crimes_pattern(data_2021)\n",
    "opposite_pattern_crimes_2022 = individual_crimes_pattern(data_2022)\n",
    "\n",
    "opposite_pattern_crimes_2021, opposite_pattern_crimes_2022"
   ]
  },
  {
   "cell_type": "markdown",
   "id": "a42b7ef3",
   "metadata": {},
   "source": [
    "The analysis for Topic 4 has revealed that many individual crimes do not follow the pattern of having the most occurrences in October and the least in February.\n",
    "\n",
    "Here are some examples for the year 2021:\n",
    "\n",
    "- Arson: Most occurrences in July, least in February.\n",
    "- Assault: Most occurrences in August, least in February.\n",
    "- Battery: Most occurrences in July, least in February.\n",
    "- Narcotics: Most occurrences in March, least in October.\n",
    "- Theft: Most occurrences in August, least in February.\n",
    "\n",
    "\n",
    "And many more. A similar pattern is observed for the year 2022.\n",
    "\n",
    "This detailed analysis shows that while the overall trend indicates that crimes peak in October and dip in February, this pattern is not consistent across all types of crimes. Individual crimes may have their own unique trends."
   ]
  },
  {
   "cell_type": "markdown",
   "id": "4e6232fa",
   "metadata": {},
   "source": [
    "# Topic 5: Comparing Holidays"
   ]
  },
  {
   "cell_type": "markdown",
   "id": "301aa398",
   "metadata": {},
   "source": [
    "## Q5: Are there any holidays that show an increase in the number of crimes?\n",
    "\n",
    "We'll use the holidays package to get the holidays in Chicago (United States, Illinois) for both 2021 and 2022. Then we'll compare the crime rates on those holidays to see if there is any significant increase or decrease."
   ]
  },
  {
   "cell_type": "code",
   "execution_count": 12,
   "id": "14fc627a",
   "metadata": {},
   "outputs": [
    {
     "data": {
      "text/plain": [
       "(570.7647058823529, 572.0114942528736, 630.8823529411765, 655.221264367816)"
      ]
     },
     "execution_count": 12,
     "metadata": {},
     "output_type": "execute_result"
    }
   ],
   "source": [
    "# Importing the holidays package\n",
    "import holidays\n",
    "\n",
    "# Function to analyze crimes on holidays\n",
    "def crimes_on_holidays(data, year):\n",
    "    # Getting the holidays for Chicago (United States, Illinois)\n",
    "    us_holidays = holidays.US(years=year, observed=True, state='IL')\n",
    "    \n",
    "    # Marking the dates that are holidays\n",
    "    data['Is_Holiday'] = data['Date'].dt.date.isin(us_holidays)\n",
    "    \n",
    "    # Grouping by 'Is_Holiday' and counting the occurrences\n",
    "    crimes_by_holiday = data.groupby('Is_Holiday').size().reset_index(name='Count')\n",
    "    \n",
    "    # Getting the counts for holidays and non-holidays\n",
    "    crimes_on_holidays = crimes_by_holiday.loc[crimes_by_holiday['Is_Holiday'], 'Count'].values[0]\n",
    "    crimes_on_non_holidays = crimes_by_holiday.loc[~crimes_by_holiday['Is_Holiday'], 'Count'].values[0]\n",
    "\n",
    "    # Calculating the average crimes per day for holidays and non-holidays\n",
    "    avg_crimes_holidays = crimes_on_holidays / len(us_holidays)\n",
    "    avg_crimes_non_holidays = crimes_on_non_holidays / (365 - len(us_holidays))\n",
    "\n",
    "    return avg_crimes_holidays, avg_crimes_non_holidays\n",
    "\n",
    "# Analyzing crimes on holidays for both 2021 and 2022\n",
    "avg_crimes_holidays_2021, avg_crimes_non_holidays_2021 = crimes_on_holidays(data_2021, 2021)\n",
    "avg_crimes_holidays_2022, avg_crimes_non_holidays_2022 = crimes_on_holidays(data_2022, 2022)\n",
    "\n",
    "avg_crimes_holidays_2021, avg_crimes_non_holidays_2021, avg_crimes_holidays_2022, avg_crimes_non_holidays_2022"
   ]
  },
  {
   "cell_type": "markdown",
   "id": "0f293a20",
   "metadata": {},
   "source": [
    "- For the year 2021:\n",
    "\n",
    "1. Average crimes on holidays: 570.76\n",
    "2. Average crimes on non-holidays: 572.01\n",
    "\n",
    "\n",
    "- For the year 2022:\n",
    "\n",
    "1. Average crimes on holidays: 630.88\n",
    "2. Average crimes on non-holidays: 655.22\n",
    "\n",
    "\n",
    "From this analysis, we can observe that there is no significant difference in the number of crimes on holidays compared to non-holidays for both years. In fact, the average number of crimes on non-holidays is slightly higher in both cases.\n",
    "\n",
    "This finding suggests that holidays do not have a noticeable impact on the number of crimes in Chicago, at least for the years 2021 and 2022."
   ]
  }
 ],
 "metadata": {
  "kernelspec": {
   "display_name": "Python 3 (ipykernel)",
   "language": "python",
   "name": "python3"
  },
  "language_info": {
   "codemirror_mode": {
    "name": "ipython",
    "version": 3
   },
   "file_extension": ".py",
   "mimetype": "text/x-python",
   "name": "python",
   "nbconvert_exporter": "python",
   "pygments_lexer": "ipython3",
   "version": "3.9.15"
  },
  "toc": {
   "base_numbering": 1,
   "nav_menu": {},
   "number_sections": true,
   "sideBar": true,
   "skip_h1_title": false,
   "title_cell": "Table of Contents",
   "title_sidebar": "Contents",
   "toc_cell": false,
   "toc_position": {},
   "toc_section_display": true,
   "toc_window_display": false
  }
 },
 "nbformat": 4,
 "nbformat_minor": 5
}
